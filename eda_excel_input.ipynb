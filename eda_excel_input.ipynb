{
 "cells": [
  {
   "cell_type": "markdown",
   "id": "5eb42824",
   "metadata": {},
   "source": [
    "# 📊 EDA & Data Quality Analysis for Business Intelligence Dataset"
   ]
  },
  {
   "cell_type": "code",
   "execution_count": null,
   "id": "3c4c086e",
   "metadata": {},
   "outputs": [],
   "source": [
    "\n",
    "import pandas as pd\n",
    "import matplotlib.pyplot as plt\n",
    "import seaborn as sns\n",
    "\n",
    "# Load the Excel file\n",
    "excel_path = \"myexc1.xlsx\"\n",
    "orders_df = pd.read_excel(excel_path, sheet_name='Orders', parse_dates=[\"Order Date\", \"Ship Date\"])\n",
    "returns_df = pd.read_excel(excel_path, sheet_name='Returns')\n",
    "people_df = pd.read_excel(excel_path, sheet_name='People')\n",
    "\n",
    "# Merge returns into orders\n",
    "orders_df['Returned'] = orders_df['Order ID'].isin(returns_df['Order ID']).map({True: 'Yes', False: 'No'})\n"
   ]
  },
  {
   "cell_type": "markdown",
   "id": "f22f7d1a",
   "metadata": {},
   "source": [
    "## ✅ Dataset Overview"
   ]
  },
  {
   "cell_type": "code",
   "execution_count": null,
   "id": "026cedc1",
   "metadata": {},
   "outputs": [],
   "source": [
    "\n",
    "print(\"Rows:\", orders_df.shape[0])\n",
    "print(\"Columns:\", orders_df.shape[1])\n",
    "orders_df.info()\n"
   ]
  },
  {
   "cell_type": "markdown",
   "id": "7cba1b43",
   "metadata": {},
   "source": [
    "## 🧼 Missing Values"
   ]
  },
  {
   "cell_type": "code",
   "execution_count": null,
   "id": "2065240f",
   "metadata": {},
   "outputs": [],
   "source": [
    "orders_df.isnull().sum()"
   ]
  },
  {
   "cell_type": "markdown",
   "id": "138da506",
   "metadata": {},
   "source": [
    "## 🧾 Summary Statistics (Numerical Columns)"
   ]
  },
  {
   "cell_type": "code",
   "execution_count": null,
   "id": "eb0f01e0",
   "metadata": {},
   "outputs": [],
   "source": [
    "orders_df.describe()"
   ]
  },
  {
   "cell_type": "markdown",
   "id": "736c1469",
   "metadata": {},
   "source": [
    "## 🆔 Duplicate Rows"
   ]
  },
  {
   "cell_type": "code",
   "execution_count": null,
   "id": "ef94105c",
   "metadata": {},
   "outputs": [],
   "source": [
    "orders_df.duplicated().sum()"
   ]
  },
  {
   "cell_type": "markdown",
   "id": "a244dfde",
   "metadata": {},
   "source": [
    "## ⚠️ Invalid or Unexpected Values"
   ]
  },
  {
   "cell_type": "code",
   "execution_count": null,
   "id": "e30c4d0e",
   "metadata": {},
   "outputs": [],
   "source": [
    "\n",
    "# Negative profit or sales\n",
    "negative_profit = (orders_df['Profit'] < 0).sum()\n",
    "negative_sales = (orders_df['Sales'] <= 0).sum()\n",
    "\n",
    "# Ship date before order date\n",
    "invalid_ship_dates = (orders_df['Ship Date'] < orders_df['Order Date']).sum()\n",
    "\n",
    "# Quantity check\n",
    "zero_quantity = (orders_df['Quantity'] <= 0).sum()\n",
    "\n",
    "# Discount range check\n",
    "invalid_discounts = orders_df[(orders_df['Discount'] < 0) | (orders_df['Discount'] > 0.8)].shape[0]\n",
    "\n",
    "{\n",
    "    \"Negative Profit Rows\": negative_profit,\n",
    "    \"Negative or Zero Sales\": negative_sales,\n",
    "    \"Ship Dates Before Order Dates\": invalid_ship_dates,\n",
    "    \"Zero or Negative Quantity\": zero_quantity,\n",
    "    \"Invalid Discount Values\": invalid_discounts\n",
    "}\n"
   ]
  },
  {
   "cell_type": "markdown",
   "id": "f25f2d7f",
   "metadata": {},
   "source": [
    "## 🧮 Unique Values in Categorical Columns"
   ]
  },
  {
   "cell_type": "code",
   "execution_count": null,
   "id": "e27f6f50",
   "metadata": {},
   "outputs": [],
   "source": [
    "orders_df.select_dtypes(include='object').nunique().sort_values(ascending=False)"
   ]
  },
  {
   "cell_type": "markdown",
   "id": "81b10d69",
   "metadata": {},
   "source": [
    "## 📊 Visual Analysis"
   ]
  },
  {
   "cell_type": "code",
   "execution_count": null,
   "id": "ce26a3bc",
   "metadata": {},
   "outputs": [],
   "source": [
    "\n",
    "# Create delivery lag field\n",
    "orders_df['Delivery Lag (Days)'] = (orders_df['Ship Date'] - orders_df['Order Date']).dt.days\n",
    "\n",
    "sns.set(style=\"whitegrid\")\n",
    "plt.rcParams[\"figure.figsize\"] = (10, 6)\n"
   ]
  },
  {
   "cell_type": "code",
   "execution_count": null,
   "id": "10cbf184",
   "metadata": {},
   "outputs": [],
   "source": [
    "\n",
    "import pandas as pd\n",
    "import matplotlib.pyplot as plt\n",
    "import seaborn as sns\n",
    "\n",
    "# Load the dataset\n",
    "orders_df = pd.read_csv(\"merged_orders.csv\", parse_dates=[\"Order Date\", \"Ship Date\"])\n",
    "\n",
    "# Create delivery lag field\n",
    "orders_df['Delivery Lag (Days)'] = (orders_df['Ship Date'] - orders_df['Order Date']).dt.days\n",
    "\n",
    "# Set plot style\n",
    "sns.set(style=\"whitegrid\")\n",
    "plt.rcParams[\"figure.figsize\"] = (10, 6)\n"
   ]
  },
  {
   "cell_type": "code",
   "execution_count": null,
   "id": "1dfefa3b",
   "metadata": {},
   "outputs": [],
   "source": [
    "\n",
    "# Plot 1: Monthly Sales Trend\n",
    "orders_df.set_index('Order Date').resample('M')['Sales'].sum().plot(title=\"Monthly Sales Trend\")\n",
    "plt.ylabel(\"Sales ($)\")\n",
    "plt.xlabel(\"Order Date\")\n",
    "plt.tight_layout()\n",
    "plt.savefig(\"monthly_sales_trend.png\")\n",
    "plt.close()\n"
   ]
  },
  {
   "cell_type": "code",
   "execution_count": null,
   "id": "89368eca",
   "metadata": {},
   "outputs": [],
   "source": [
    "\n",
    "# Plot 2: Profit Distribution\n",
    "sns.histplot(orders_df['Profit'], bins=50, kde=True)\n",
    "plt.title(\"Profit Distribution\")\n",
    "plt.xlabel(\"Profit ($)\")\n",
    "plt.ylabel(\"Frequency\")\n",
    "plt.tight_layout()\n",
    "plt.savefig(\"profit_distribution.png\")\n",
    "plt.close()\n"
   ]
  },
  {
   "cell_type": "code",
   "execution_count": null,
   "id": "2ef6235f",
   "metadata": {},
   "outputs": [],
   "source": [
    "\n",
    "# Plot 3: Profit by Product Category\n",
    "sns.boxplot(x='Category', y='Profit', data=orders_df)\n",
    "plt.title(\"Profit by Product Category\")\n",
    "plt.tight_layout()\n",
    "plt.savefig(\"profit_by_category.png\")\n",
    "plt.close()\n"
   ]
  },
  {
   "cell_type": "code",
   "execution_count": null,
   "id": "89e77acb",
   "metadata": {},
   "outputs": [],
   "source": [
    "\n",
    "# Plot 4: Return Rate by Sub-Category\n",
    "returns_rate = orders_df.groupby('Sub-Category')['Returned'].apply(lambda x: (x == 'Yes').mean()).sort_values(ascending=False)\n",
    "returns_rate.plot(kind='bar', color='tomato')\n",
    "plt.title(\"Return Rate by Sub-Category\")\n",
    "plt.ylabel(\"Return Rate (%)\")\n",
    "plt.xticks(rotation=45)\n",
    "plt.tight_layout()\n",
    "plt.savefig(\"return_rate_by_subcategory.png\")\n",
    "plt.close()\n"
   ]
  },
  {
   "cell_type": "code",
   "execution_count": null,
   "id": "00a4b972",
   "metadata": {},
   "outputs": [],
   "source": [
    "\n",
    "# Plot 5: Delivery Lag by Ship Mode\n",
    "sns.boxplot(x='Ship Mode', y='Delivery Lag (Days)', data=orders_df)\n",
    "plt.title(\"Shipping Delay by Ship Mode\")\n",
    "plt.tight_layout()\n",
    "plt.savefig(\"delivery_lag_by_ship_mode.png\")\n",
    "plt.close()\n"
   ]
  },
  {
   "cell_type": "code",
   "execution_count": null,
   "id": "e443da67",
   "metadata": {},
   "outputs": [],
   "source": [
    "\n",
    "# Plot 6: Sales and Profit by Region\n",
    "region_group = orders_df.groupby('Region')[['Sales', 'Profit']].sum().sort_values(by='Sales', ascending=False)\n",
    "region_group.plot(kind='bar')\n",
    "plt.title(\"Sales and Profit by Region\")\n",
    "plt.ylabel(\"Amount ($)\")\n",
    "plt.xticks(rotation=0)\n",
    "plt.tight_layout()\n",
    "plt.savefig(\"sales_profit_by_region.png\")\n",
    "plt.close()\n"
   ]
  },
  {
   "cell_type": "code",
   "execution_count": null,
   "id": "7aaea5e0",
   "metadata": {},
   "outputs": [],
   "source": [
    "\n",
    "# Plot 7: Customer Segmentation\n",
    "customer_summary = orders_df.groupby('Customer ID').agg({\n",
    "    'Sales': 'sum',\n",
    "    'Order ID': 'nunique',\n",
    "    'Profit': 'sum'\n",
    "}).rename(columns={'Order ID': 'Num Orders'})\n",
    "customer_summary['AOV'] = customer_summary['Sales'] / customer_summary['Num Orders']\n",
    "\n",
    "sns.scatterplot(data=customer_summary, x='Num Orders', y='AOV', size='Profit', hue='Profit', palette='viridis', sizes=(20, 200))\n",
    "plt.title(\"Customer Segmentation: Orders vs. AOV\")\n",
    "plt.xlabel(\"Number of Orders\")\n",
    "plt.ylabel(\"Average Order Value ($)\")\n",
    "plt.tight_layout()\n",
    "plt.savefig(\"customer_segmentation.png\")\n",
    "plt.close()\n"
   ]
  }
 ],
 "metadata": {},
 "nbformat": 4,
 "nbformat_minor": 5
}
